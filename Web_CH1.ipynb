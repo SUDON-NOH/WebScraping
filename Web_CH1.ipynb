{
 "cells": [
  {
   "cell_type": "markdown",
   "metadata": {},
   "source": [
    "BeautifulSoup : 잘못된 HTML을 수정하여 쉽게 탐색할 수 있는 XML 형식의 파이썬 객체로 변환하므로\n",
    "                골치아픈 웹을 탐색할 때 유용하다."
   ]
  },
  {
   "cell_type": "code",
   "execution_count": 1,
   "metadata": {},
   "outputs": [
    {
     "name": "stdout",
     "output_type": "stream",
     "text": [
      "h1:  <h1>An Interesting Title</h1>\n"
     ]
    }
   ],
   "source": [
    "from urllib.request import urlopen\n",
    "from bs4 import BeautifulSoup\n",
    "html = urlopen(\"http://pythonscraping.com/pages/page1.html\")\n",
    "bs0bj = BeautifulSoup(html.read(), \"html.parser\")\n",
    "\n",
    "print(\"h1: \", bs0bj.h1)\n",
    "# <h1>An Interesting Title</h1>"
   ]
  },
  {
   "cell_type": "markdown",
   "metadata": {},
   "source": [
    "html = urlopen(\"http://pythonscraping.com/pages/page1.html\")\n",
    "\n",
    "이 부분에서 문제가 생길 수 있는 부분은 크게 2가지입니다.\n",
    "- 페이지를 찾을 수 없거나, URL 해석에서 에러가 생기는 경우\n",
    "- 서버를 찾을 수 없는 경우"
   ]
  },
  {
   "cell_type": "code",
   "execution_count": 3,
   "metadata": {},
   "outputs": [],
   "source": [
    "# 첫번째 상황에서 HTTP 에러가 반환된다. \"404 Page Not Found\", \"500 Internal Server Error\" 등\n",
    "\n",
    "from urllib.request import urlopen\n",
    "from urllib.request import HTTPError\n",
    "from bs4 import BeautifulSoup\n",
    "\n",
    "try:\n",
    "    html = urlopen(\"http://pythonscraping.com/pages/error.html\")\n",
    "except HTTPError as e:\n",
    "    print(e)\n",
    "    # null 을 반환하거나, break 문을 수행하거나, 기타 다른 방법을 사용\n",
    "else:\n",
    "    # 프로그램을 계속 실행합니다. except 절에서 return이나 break를 사용했다면\n",
    "    # 이 절을 필요 없습니다."
   ]
  },
  {
   "cell_type": "code",
   "execution_count": null,
   "metadata": {},
   "outputs": [],
   "source": [
    "from urllib.request import urlopen\n",
    "from urllib.request import HTTPError\n",
    "from bs4 import BeautifulSoup\n",
    "\n",
    "# 페이지 타이틀을 반환하거나, 어떤 문제가 있으면 None 객체를 반환하는 getTitle 함수를 만든다.\n",
    "def getTitle(url):\n",
    "    # 'HTTPError' 를 체크\n",
    "    try:\n",
    "        html = urlopen(url)\n",
    "    except HTTPError as e:\n",
    "        return None\n",
    "    try:\n",
    "        bs0bj = BeautifulSoup(html.read(), \"html.parser\")\n",
    "        title = bs0bj.body.h1\n",
    "    except AttributeError as e:\n",
    "        return None\n",
    "    return title\n",
    "# 위의 두 try 행 중 어느 하나라도 AttributeError 를 일으킬 수 있다.\n",
    "# 예를 들어, 서버가 존재하지 않으면 html 은 None 객체 -> html.read()가 AttributeError를 일으킬 것\n",
    "\n",
    "\n",
    "title = getTitle(\"http://pythonscraping.com/pages/page1.html\")\n",
    "if title == None:\n",
    "    print(\"Title could not be found\")\n",
    "else:\n",
    "    print(title)"
   ]
  }
 ],
 "metadata": {
  "kernelspec": {
   "display_name": "Python 3",
   "language": "python",
   "name": "python3"
  },
  "language_info": {
   "codemirror_mode": {
    "name": "ipython",
    "version": 3
   },
   "file_extension": ".py",
   "mimetype": "text/x-python",
   "name": "python",
   "nbconvert_exporter": "python",
   "pygments_lexer": "ipython3",
   "version": "3.7.3"
  }
 },
 "nbformat": 4,
 "nbformat_minor": 2
}
