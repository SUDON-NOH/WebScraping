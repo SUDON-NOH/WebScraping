{
 "cells": [
  {
   "cell_type": "code",
   "execution_count": 1,
   "metadata": {},
   "outputs": [],
   "source": [
    "from selenium import webdriver\n",
    "import time\n",
    "from selenium.webdriver.common.keys import Keys"
   ]
  },
  {
   "cell_type": "code",
   "execution_count": 2,
   "metadata": {},
   "outputs": [],
   "source": [
    "# 팬텀은 브라우저와 유사하게 동작하고 Javascript를 동작시켜주지만 성능상의 문제점과 크롬과 완전히 동일하게 동작하지 않는다는 문제점이 있다.\n",
    "# 또한 크롬의 개발이 2018년 기준으로 멈춰있기 때문에 크롬의 headless 모드를 사용하는 것이 바람직하다.\n",
    "# driver = webdriver.Chrome()\n",
    "# driver = webdriver.PhantomJS('C:/Users/SD NOH/PycharmProjects/phantomjs-2.1.1-windows/bin/phantomjs.exe')"
   ]
  },
  {
   "cell_type": "code",
   "execution_count": 3,
   "metadata": {},
   "outputs": [],
   "source": [
    "# Headless 모드\n",
    "options = webdriver.ChromeOptions()\n",
    "options.add_argument('headless')\n",
    "options.add_argument('window-size=1920x1080')\n",
    "options.add_argument(\"disable-gpu\")\n",
    "\n",
    "# UserAgent 값을 바꿔서 Headless 탐지를 막는다.\n",
    "options.add_argument(\"user-agent=Mozilla/5.0 (Macintosh; Intel Mac OS X 10_12_6) AppleWebKit/537.36 (KHTML, like Gecko) Chrome/61.0.3163.100 Safari/537.36\")\n",
    "\n",
    "driver = webdriver.Chrome()\n",
    "\n",
    "driver.implicitly_wait(5)\n",
    "\n",
    "# 첫페이지 실행\n",
    "driver.get('https://www.ncbi.nlm.nih.gov/pubmed/?term=PD1%2C+2019')\n",
    "\n",
    "# 압묵적으로 웹 자원 로드를 위해 3초까지 기다려 준다.\n",
    "driver.implicitly_wait(3)"
   ]
  },
  {
   "cell_type": "code",
   "execution_count": 4,
   "metadata": {},
   "outputs": [],
   "source": [
    "# 개발자도구에서 원하는 버튼의 HTML을 찾은 다음 복사로 xpath를 복사한다.\n",
    "\n",
    "\n",
    "# driver.find_element_by_xpath('//*[@id=\"EntrezSystem2.PEntrez.PubMed.Pubmed_ResultsPanel.Pubmed_Pager.Page\"]').click()\n",
    "# //*[@id=\"EntrezSystem2.PEntrez.PubMed.Pubmed_ResultsPanel.Pubmed_Pager.Page\"]"
   ]
  },
  {
   "cell_type": "code",
   "execution_count": 5,
   "metadata": {},
   "outputs": [],
   "source": [
    "# 링크로 접속\n",
    "\n",
    "# totalCount = driver.find_element_by_class_name('value').text\n",
    "# print(\"총 게시물:\", totalCount)\n",
    "\n",
    "# BODY 태그를 태그이름으로 찾기\n",
    "elem = driver.find_element_by_tag_name(\"body\")\n",
    "\n",
    "# PMID 리스트 만들기\n",
    "PMID_list = []"
   ]
  },
  {
   "cell_type": "code",
   "execution_count": 6,
   "metadata": {},
   "outputs": [],
   "source": [
    "# 페이지 스크롤을 위한 변수\n",
    "pagedown = 1"
   ]
  },
  {
   "cell_type": "code",
   "execution_count": 7,
   "metadata": {},
   "outputs": [],
   "source": [
    "# # 스크롤을 20번 진행\n",
    "# class 활용해서 추출\n",
    "# count_pmid = 0\n",
    "# while pagedown < 5:\n",
    "\n",
    "    \n",
    "    \n",
    "#     # 페이지 스크롤 타이밍을 맞추기 위해 sleep\n",
    "#     time.sleep(3)\n",
    "    \n",
    "#     # 브라우저에 보이는 모든 dd 태그를 찾는다.\n",
    "#     z = driver.find_elements_by_class_name('rprtid')\n",
    "    \n",
    "#     for i in z:\n",
    "#         PMID_list.append(i.text)\n",
    "    \n",
    "    \n",
    "#     # pagedwon을 하는 이유는 실제로 브라우저에 보이는 부분만을 추출하기 때문\n",
    "#     elem.send_keys(Keys.PAGE_DOWN)\n",
    "    \n",
    "#     pagedown += 1\n",
    "\n",
    "# print(PMID_list)\n",
    "\n"
   ]
  },
  {
   "cell_type": "code",
   "execution_count": 8,
   "metadata": {},
   "outputs": [
    {
     "name": "stdout",
     "output_type": "stream",
     "text": [
      "['PMID: 31815569', 'PMID: 31819174', 'PMID: 31812660', 'PMID: 31811337', 'PMID: 31833607', 'PMID: 31838340', 'PMID: 31840398', 'PMID: 31810958', 'PMID: 31822499', 'PMID: 31850687', 'PMID: 31827799', 'PMID: 31817953', 'PMID: 31823654', 'PMID: 31811434', 'PMID: 31828774', 'PMID: 31819345', 'PMID: 31849495', 'PMID: 31836816', 'PMID: 31812347', 'PMID: 31850422']\n",
      "20\n"
     ]
    }
   ],
   "source": [
    "# PMID_list = list(set(PMID_list))\n",
    "# print(PMID_list)\n",
    "# print(len(PMID_list))"
   ]
  },
  {
   "cell_type": "code",
   "execution_count": 8,
   "metadata": {},
   "outputs": [
    {
     "name": "stdout",
     "output_type": "stream",
     "text": [
      "['31850687', '31850422', '31849495', '31840398', '31838340', '31836816', '31833607', '31828774', '31827799', '31823654', '31822499', '31819345', '31819174', '31817953', '31815569', '31812660', '31812347', '31811434', '31811337', '31810958', '31850687', '31850422', '31849495', '31840398', '31838340', '31836816', '31833607', '31828774', '31827799', '31823654', '31822499', '31819345', '31819174', '31817953', '31815569', '31812660', '31812347', '31811434', '31811337', '31810958', '31850687', '31850422', '31849495', '31840398', '31838340', '31836816', '31833607', '31828774', '31827799', '31823654', '31822499', '31819345', '31819174', '31817953', '31815569', '31812660', '31812347', '31811434', '31811337', '31810958', '31850687', '31850422', '31849495', '31840398', '31838340', '31836816', '31833607', '31828774', '31827799', '31823654', '31822499', '31819345', '31819174', '31817953', '31815569', '31812660', '31812347', '31811434', '31811337', '31810958']\n"
     ]
    }
   ],
   "source": [
    "# 스크롤을 20번 진행\n",
    "count_pmid = 0\n",
    "while pagedown < 4:\n",
    "\n",
    "    \n",
    "    \n",
    "    # 페이지 스크롤 타이밍을 맞추기 위해 sleep\n",
    "    time.sleep(1)\n",
    "    \n",
    "    # 브라우저에 보이는 모든 dd 태그를 찾는다.\n",
    "    z = driver.find_elements_by_tag_name('dd')\n",
    "    \n",
    "    for i in z:\n",
    "        PMID_list.append(i.text)\n",
    "    \n",
    "    \n",
    "    # pagedwon을 하는 이유는 실제로 브라우저에 보이는 부분만을 추출하기 때문\n",
    "    elem.send_keys(Keys.PAGE_DOWN)\n",
    "    \n",
    "    pagedown += 1\n",
    "\n",
    "print(PMID_list)"
   ]
  },
  {
   "cell_type": "code",
   "execution_count": 8,
   "metadata": {},
   "outputs": [],
   "source": [
    "# 2를 입력해서 Enter\n",
    "\n",
    "\n",
    "# 해당 path 요소 삭제\n",
    "driver.find_element_by_xpath('//*[@id=\"pageno\"]').clear()\n",
    "\n",
    "# 해당 path 요소 입력\n",
    "driver.find_element_by_xpath('//*[@id=\"pageno\"]').send_keys('2')\n",
    "\n",
    "# 해당 path 에 ENTER를 직접 입력\n",
    "driver.find_element_by_xpath('//*[@id=\"pageno\"]').send_keys(Keys.ENTER)\n",
    "\n",
    "driver.implicitly_wait(5)"
   ]
  },
  {
   "cell_type": "code",
   "execution_count": 11,
   "metadata": {},
   "outputs": [
    {
     "data": {
      "text/plain": [
       "<selenium.webdriver.remote.webelement.WebElement (session=\"52df4c05580d0b47ebef595f6831c9f3\", element=\"3013c5d3-76f9-497d-8954-4c0b50d72838\")>"
      ]
     },
     "execution_count": 11,
     "metadata": {},
     "output_type": "execute_result"
    }
   ],
   "source": [
    "# driver.find_element_by_xpath('//*[@id=\"maincontent\"]/div/div[5]/div[1]/div[2]/div[2]/div/dl/dd')"
   ]
  },
  {
   "cell_type": "code",
   "execution_count": 12,
   "metadata": {},
   "outputs": [
    {
     "name": "stdout",
     "output_type": "stream",
     "text": [
      "2\n",
      "<class 'str'>\n",
      "3\n",
      "<class 'str'>\n",
      "4\n",
      "<class 'str'>\n",
      "5\n",
      "<class 'str'>\n",
      "6\n",
      "<class 'str'>\n",
      "7\n",
      "<class 'str'>\n",
      "8\n",
      "<class 'str'>\n",
      "9\n",
      "<class 'str'>\n",
      "10\n",
      "<class 'str'>\n",
      "11\n",
      "<class 'str'>\n",
      "12\n",
      "<class 'str'>\n",
      "13\n",
      "<class 'str'>\n",
      "14\n",
      "<class 'str'>\n",
      "15\n",
      "<class 'str'>\n",
      "16\n",
      "<class 'str'>\n",
      "17\n",
      "<class 'str'>\n",
      "18\n",
      "<class 'str'>\n",
      "19\n",
      "<class 'str'>\n",
      "20\n",
      "<class 'str'>\n",
      "21\n",
      "<class 'str'>\n",
      "22\n",
      "<class 'str'>\n",
      "23\n",
      "<class 'str'>\n",
      "24\n",
      "<class 'str'>\n",
      "25\n",
      "<class 'str'>\n",
      "26\n",
      "<class 'str'>\n",
      "27\n",
      "<class 'str'>\n",
      "28\n",
      "<class 'str'>\n",
      "29\n",
      "<class 'str'>\n"
     ]
    }
   ],
   "source": []
  },
  {
   "cell_type": "code",
   "execution_count": null,
   "metadata": {},
   "outputs": [],
   "source": []
  }
 ],
 "metadata": {
  "kernelspec": {
   "display_name": "Python 3",
   "language": "python",
   "name": "python3"
  },
  "language_info": {
   "codemirror_mode": {
    "name": "ipython",
    "version": 3
   },
   "file_extension": ".py",
   "mimetype": "text/x-python",
   "name": "python",
   "nbconvert_exporter": "python",
   "pygments_lexer": "ipython3",
   "version": "3.7.4"
  }
 },
 "nbformat": 4,
 "nbformat_minor": 2
}
